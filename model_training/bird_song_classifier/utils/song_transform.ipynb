{
 "cells": [
  {
   "cell_type": "code",
   "execution_count": 1,
   "metadata": {},
   "outputs": [],
   "source": [
    "from scipy import signal\n",
    "import numpy as np\n",
    "import matplotlib\n",
    "import matplotlib.pyplot as plt\n",
    "import pathlib\n",
    "import os\n",
    "import librosa\n",
    "import librosa.display\n",
    "\n",
    "%matplotlib notebook"
   ]
  },
  {
   "cell_type": "code",
   "execution_count": 2,
   "metadata": {},
   "outputs": [],
   "source": [
    "sound_path = '../dataset/sound/'\n",
    "img_path = '../dataset/spectrograms/'\n",
    "plt.rcParams['savefig.pad_inches'] = 0"
   ]
  },
  {
   "cell_type": "code",
   "execution_count": 3,
   "metadata": {},
   "outputs": [],
   "source": [
    "def preprocess_song(audio, orig_sr, min_duration=10, target_sr=22050):\n",
    "    y = librosa.core.resample(audio, orig_sr=orig_sr, target_sr=target_sr)\n",
    "    duration = librosa.core.get_duration(y, sr=target_sr)\n",
    "    while duration < min_duration:\n",
    "        y = np.append(y, y)\n",
    "        duration = librosa.core.get_duration(y)\n",
    "    return y, target_sr"
   ]
  },
  {
   "cell_type": "code",
   "execution_count": 4,
   "metadata": {},
   "outputs": [],
   "source": [
    "def apply_ft(audio, sr, win_size=512, overlap_fac=0.75):\n",
    "    hop_length = int(win_size - np.floor(overlap_fac * win_size))\n",
    "    window = np.hanning(win_size)\n",
    "    out  = librosa.core.spectrum.stft(audio, n_fft=win_size, hop_length=hop_length, window=window)\n",
    "    return out"
   ]
  },
  {
   "cell_type": "code",
   "execution_count": 5,
   "metadata": {},
   "outputs": [],
   "source": [
    "def extract_foreground(spec_stft, sr, margin=10, power=2):\n",
    "    spec_full, phase = librosa.magphase(spec_stft)\n",
    "    filter_width = int(librosa.time_to_frames(2, sr=sr))\n",
    "    spec_filter = librosa.decompose.nn_filter(spec_full, aggregate=np.median, metric='cosine', width=filter_width)\n",
    "    spec_filter = np.minimum(spec_full, spec_filter)\n",
    "    x = spec_full - spec_filter\n",
    "    x_ref = margin * spec_filter\n",
    "    mask = librosa.util.softmask(x, x_ref, power=power)\n",
    "    spec_foreground = mask * spec_full\n",
    "    return spec_foreground"
   ]
  },
  {
   "cell_type": "code",
   "execution_count": 6,
   "metadata": {},
   "outputs": [],
   "source": [
    "def plot_spec(audio, sr, filename, x_axis='time', y_axis='log'):\n",
    "    plt.ioff()\n",
    "    fig = plt.figure(figsize=None)\n",
    "    ax = plt.axes([0,0,1,1], frameon=False)\n",
    "    ax.get_xaxis().set_visible(False)\n",
    "    ax.get_yaxis().set_visible(False)\n",
    "    plt.autoscale(tight=True)\n",
    "    librosa.display.specshow(librosa.amplitude_to_db(audio, ref=np.max), \n",
    "                             y_axis=y_axis, x_axis=x_axis, sr=sr)\n",
    "    plt.savefig(filename)\n",
    "    plt.close()"
   ]
  },
  {
   "cell_type": "code",
   "execution_count": 7,
   "metadata": {},
   "outputs": [],
   "source": [
    "for i, filename in enumerate(pathlib.Path(sound_path).glob('*.mp3')):\n",
    "    img_filename = \"{}{}.png\".format(img_path, filename.stem)\n",
    "    rec, sr = librosa.load(filename)\n",
    "    rec, sr = preprocess_song(rec, sr)\n",
    "    spec_stft = apply_ft(rec, sr)\n",
    "    spec_foreground = extract_foreground(spec_stft, sr)\n",
    "    plot_spec(spec_foreground, sr, img_filename)"
   ]
  },
  {
   "cell_type": "code",
   "execution_count": null,
   "metadata": {},
   "outputs": [],
   "source": []
  }
 ],
 "metadata": {
  "kernelspec": {
   "display_name": "Python 3",
   "language": "python",
   "name": "python3"
  },
  "language_info": {
   "codemirror_mode": {
    "name": "ipython",
    "version": 3
   },
   "file_extension": ".py",
   "mimetype": "text/x-python",
   "name": "python",
   "nbconvert_exporter": "python",
   "pygments_lexer": "ipython3",
   "version": "3.6.6"
  }
 },
 "nbformat": 4,
 "nbformat_minor": 2
}
